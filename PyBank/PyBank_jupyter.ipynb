{
 "cells": [
  {
   "cell_type": "code",
   "execution_count": null,
   "metadata": {
    "collapsed": true
   },
   "outputs": [],
   "source": [
    "# Dependencies\n",
    "import csv\n",
    "import os\n",
    "\n",
    "# Files to load and output (update with correct file paths)\n",
    "file_to_load = os.path.join(\"Resources\", \"election_data.csv\")  # Input file path\n",
    "file_to_output = os.path.join(\"analysis\", \"election_analysis.txt\")  # Output file path"
   ]
  },
  {
   "cell_type": "code",
   "execution_count": null,
   "metadata": {
    "collapsed": true
   },
   "outputs": [],
   "source": [
    "# Define variables to track the financial data\n",
    "monthscolumn = []\n",
    "profitlosscolumn = []\n",
    "# Add more variables to track other necessary financial data\n",
    "net_change_list = []\n",
    "net_change_across_months = []\n",
    "with open(file_to_load) as financial_data:\n",
    "    reader = csv.reader(financial_data, delimiter = \",\")\n",
    " # Skip the header row\n",
    "    header = next(reader)\n",
    "    \n",
    "    # Extract first row to avoid appending to net_change_list    \n",
    "\n",
    "       # Track the total and net change\n",
    "    finaltotal = 0\n",
    "    netchange = 0\n",
    "\n",
    "    # Process each row of data\n",
    "    #------ Creates a list of remaining data: \n",
    "    \n",
    "    for row in reader:\n",
    "        \n",
    "        monthscolumn.append(row[0])\n",
    "        profitlosscolumn.append(int(row[1]))\n",
    "        \n",
    "        # Track the total\n",
    "       \n",
    "\n",
    "    finaltotal = sum(profitlosscolumn)\n",
    "      \n",
    "    zip_month_profit = list(zip(monthscolumn, profitlosscolumn))\n",
    "        # Track the net change\n",
    "    for i in range(0, len(zip_month_profit)):\n",
    "            date = zip_month_profit[i][0]\n",
    "            change = zip_month_profit[i][1] - zip_month_profit[i - 1][1]\n",
    "            net_change_list.append((date, change))\n",
    "        \n",
    "    \n",
    "        # Calculate the greatest increase in profits (month and amount)\n",
    "        # Learned the custom key function is used to return the date and the change value\n",
    "        # Suggested by Xpert Learning Assistant\n",
    "    max_change_date = max(net_change_list, key=lambda x: x[1])\n",
    "\n",
    "        # Calculate the greatest decrease in losses (month and amount)\n",
    "    min_change_date = min(net_change_list, key=lambda x: x[1])\n",
    "\n",
    "\n",
    "\n",
    "# Calculate the average net change across the months\n",
    "for i in range(1, len(profitlosscolumn)):\n",
    "            netchange = profitlosscolumn[i] - profitlosscolumn[i - 1]\n",
    "            net_change_across_months.append(netchange)\n",
    "mean_net_change = sum(net_change_across_months) / len(net_change_across_months)\n",
    "\n",
    "# Generate the output summary"
   ]
  },
  {
   "cell_type": "code",
   "execution_count": null,
   "metadata": {},
   "outputs": [],
   "source": [
    " \n",
    "mean_net_change_rounded = \"%.2f\" % mean_net_change\n",
    "\n"
   ]
  },
  {
   "cell_type": "code",
   "execution_count": null,
   "metadata": {},
   "outputs": [],
   "source": []
  },
  {
   "cell_type": "code",
   "execution_count": null,
   "metadata": {},
   "outputs": [],
   "source": [
    "output_summary = print(f\"\"\"\n",
    "Financial Analysis\n",
    "-------------------------\n",
    "Total Months: {len(monthscolumn)} \n",
    "Total: ${finaltotal} \n",
    "Average Change: ${mean_net_change_rounded} \n",
    "Greatest Increase in Profits: {max_change_date[0]} (${max_change_date[1]})\n",
    "Greatest Decrease in Profits: {min_change_date[0]} (${min_change_date[1]}) \"\"\")\n",
    "\n",
    "output_summary"
   ]
  }
 ],
 "metadata": {
  "kernelspec": {
   "display_name": "dev_ave",
   "language": "python",
   "name": "python3"
  },
  "language_info": {
   "codemirror_mode": {
    "name": "ipython",
    "version": 3
   },
   "file_extension": ".py",
   "mimetype": "text/x-python",
   "name": "python",
   "nbconvert_exporter": "python",
   "pygments_lexer": "ipython3",
   "version": "3.10.15"
  },
  "varInspector": {
   "cols": {
    "lenName": 16,
    "lenType": 16,
    "lenVar": 40
   },
   "kernels_config": {
    "python": {
     "delete_cmd_postfix": "",
     "delete_cmd_prefix": "del ",
     "library": "var_list.py",
     "varRefreshCmd": "print(var_dic_list())"
    },
    "r": {
     "delete_cmd_postfix": ") ",
     "delete_cmd_prefix": "rm(",
     "library": "var_list.r",
     "varRefreshCmd": "cat(var_dic_list()) "
    }
   },
   "types_to_exclude": [
    "module",
    "function",
    "builtin_function_or_method",
    "instance",
    "_Feature"
   ],
   "window_display": false
  }
 },
 "nbformat": 4,
 "nbformat_minor": 2
}
